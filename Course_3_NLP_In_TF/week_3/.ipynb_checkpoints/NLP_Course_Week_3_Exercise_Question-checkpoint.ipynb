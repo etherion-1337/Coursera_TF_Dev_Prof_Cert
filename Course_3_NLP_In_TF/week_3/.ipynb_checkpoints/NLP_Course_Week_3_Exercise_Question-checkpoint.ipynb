{
 "cells": [
  {
   "cell_type": "code",
   "execution_count": null,
   "metadata": {
    "id": "zX4Kg8DUTKWO"
   },
   "outputs": [],
   "source": [
    "#@title Licensed under the Apache License, Version 2.0 (the \"License\");\n",
    "# you may not use this file except in compliance with the License.\n",
    "# You may obtain a copy of the License at\n",
    "#\n",
    "# https://www.apache.org/licenses/LICENSE-2.0\n",
    "#\n",
    "# Unless required by applicable law or agreed to in writing, software\n",
    "# distributed under the License is distributed on an \"AS IS\" BASIS,\n",
    "# WITHOUT WARRANTIES OR CONDITIONS OF ANY KIND, either express or implied.\n",
    "# See the License for the specific language governing permissions and\n",
    "# limitations under the License."
   ]
  },
  {
   "cell_type": "code",
   "execution_count": 13,
   "metadata": {
    "id": "hmA6EzkQJ5jt"
   },
   "outputs": [],
   "source": [
    "import json\n",
    "import tensorflow as tf\n",
    "import csv\n",
    "import random\n",
    "import numpy as np\n",
    "\n",
    "from tensorflow.keras.preprocessing.text import Tokenizer\n",
    "from tensorflow.keras.preprocessing.sequence import pad_sequences\n",
    "from tensorflow.keras.utils import to_categorical\n",
    "from tensorflow.keras import regularizers\n",
    "\n",
    "\n",
    "embedding_dim = 100\n",
    "max_length = 16\n",
    "trunc_type='post'\n",
    "padding_type='post'\n",
    "oov_tok = \"<OOV>\"\n",
    "training_size=160000\n",
    "test_portion=.1\n",
    "\n",
    "corpus = []\n"
   ]
  },
  {
   "cell_type": "code",
   "execution_count": 14,
   "metadata": {
    "colab": {
     "base_uri": "https://localhost:8080/",
     "height": 204
    },
    "id": "bM0l_dORKqE0",
    "outputId": "491ba86b-f780-4355-a4be-765565a29c8c"
   },
   "outputs": [],
   "source": [
    "# Note that I cleaned the Stanford dataset to remove LATIN1 encoding to make it easier for Python CSV reader\n",
    "# You can do that yourself with:\n",
    "# iconv -f LATIN1 -t UTF8 training.1600000.processed.noemoticon.csv -o training_cleaned.csv\n",
    "# I then hosted it on my site to make it easier to use in this notebook\n",
    "\n",
    "#!wget --no-check-certificate \\\n",
    "#    https://storage.googleapis.com/laurencemoroney-blog.appspot.com/training_cleaned.csv \\\n",
    "#    -O /tmp/training_cleaned.csv\n",
    "\n",
    "num_sentences = 0\n",
    "\n",
    "with open(\"../../data/course_3/training_cleaned.csv\") as csvfile:\n",
    "    reader = csv.reader(csvfile, delimiter=',')\n",
    "    for row in reader:\n",
    "        list_item=[]\n",
    "        list_item.append(row[5])\n",
    "        this_label=row[0]\n",
    "        if this_label=='0':\n",
    "            list_item.append(0)\n",
    "        else:\n",
    "            list_item.append(1)\n",
    "        num_sentences = num_sentences + 1\n",
    "        corpus.append(list_item)"
   ]
  },
  {
   "cell_type": "code",
   "execution_count": 15,
   "metadata": {
    "colab": {
     "base_uri": "https://localhost:8080/",
     "height": 68
    },
    "id": "3kxblBUjEUX-",
    "outputId": "3c0227a2-e74b-4d9b-cabb-f9ee150571b1"
   },
   "outputs": [
    {
     "name": "stdout",
     "output_type": "stream",
     "text": [
      "1600000\n",
      "1600000\n",
      "[\"is upset that he can't update his Facebook by texting it... and might cry as a result  School today also. Blah!\", 0]\n"
     ]
    }
   ],
   "source": [
    "print(num_sentences)\n",
    "print(len(corpus))\n",
    "print(corpus[1])\n",
    "\n",
    "# Expected Output:\n",
    "# 1600000\n",
    "# 1600000\n",
    "# [\"is upset that he can't update his Facebook by texting it... and might cry as a result  School today also. Blah!\", 0]"
   ]
  },
  {
   "cell_type": "code",
   "execution_count": 16,
   "metadata": {
    "id": "ohOGz24lsNAD"
   },
   "outputs": [],
   "source": [
    "sentences=[]\n",
    "labels=[]\n",
    "random.shuffle(corpus)\n",
    "for x in range(training_size):\n",
    "    sentences.append(corpus[x][0])\n",
    "    labels.append(corpus[x][1])\n",
    "\n",
    "\n",
    "tokenizer = Tokenizer()\n",
    "tokenizer.fit_on_texts(sentences)\n",
    "\n",
    "word_index = tokenizer.word_index\n",
    "vocab_size=len(word_index)\n",
    "\n",
    "sequences = tokenizer.texts_to_sequences(sentences)\n",
    "padded = pad_sequences(sequences, maxlen=max_length, padding=padding_type, truncating=trunc_type)\n",
    "\n",
    "split = int(test_portion * training_size)\n",
    "\n",
    "test_sequences = padded[0:split]\n",
    "training_sequences = padded[split:training_size]\n",
    "test_labels = labels[0:split]\n",
    "training_labels = labels[split:training_size]"
   ]
  },
  {
   "cell_type": "code",
   "execution_count": 17,
   "metadata": {
    "colab": {
     "base_uri": "https://localhost:8080/",
     "height": 51
    },
    "id": "gIrtRem1En3N",
    "outputId": "4ad8401c-8dba-420d-8aee-38dac0b0839a"
   },
   "outputs": [
    {
     "name": "stdout",
     "output_type": "stream",
     "text": [
      "138551\n",
      "1\n"
     ]
    }
   ],
   "source": [
    "print(vocab_size)\n",
    "print(word_index['i'])\n",
    "# Expected Output\n",
    "# 138858\n",
    "# 1"
   ]
  },
  {
   "cell_type": "code",
   "execution_count": 24,
   "metadata": {},
   "outputs": [
    {
     "data": {
      "text/plain": [
       "('glove.6B.100d.txt', <http.client.HTTPMessage at 0x7fa0d73c90f0>)"
      ]
     },
     "execution_count": 24,
     "metadata": {},
     "output_type": "execute_result"
    }
   ],
   "source": [
    "import urllib.request\n",
    "urllib.request.urlretrieve(\"https://storage.googleapis.com/laurencemoroney-blog.appspot.com/glove.6B.100d.txt\", \"glove.6B.100d.txt\")"
   ]
  },
  {
   "cell_type": "code",
   "execution_count": 25,
   "metadata": {
    "colab": {
     "base_uri": "https://localhost:8080/",
     "height": 204
    },
    "id": "C1zdgJkusRh0",
    "outputId": "b6edd322-8191-45e7-cb12-08921685a72f"
   },
   "outputs": [],
   "source": [
    "# Note this is the 100 dimension version of GloVe from Stanford\n",
    "# I unzipped and hosted it on my site to make this notebook easier\n",
    "#!wget --no-check-certificate \\\n",
    "#    https://storage.googleapis.com/laurencemoroney-blog.appspot.com/glove.6B.100d.txt \\\n",
    "#    -O /tmp/glove.6B.100d.txt\n",
    "embeddings_index = {};\n",
    "with open('../../data/course_3/glove.6B.100d.txt') as f:\n",
    "    for line in f:\n",
    "        values = line.split();\n",
    "        word = values[0];\n",
    "        coefs = np.asarray(values[1:], dtype='float32');\n",
    "        embeddings_index[word] = coefs;\n",
    "\n",
    "embeddings_matrix = np.zeros((vocab_size+1, embedding_dim));\n",
    "for word, i in word_index.items():\n",
    "    embedding_vector = embeddings_index.get(word);\n",
    "    if embedding_vector is not None:\n",
    "        embeddings_matrix[i] = embedding_vector;"
   ]
  },
  {
   "cell_type": "code",
   "execution_count": 26,
   "metadata": {
    "colab": {
     "base_uri": "https://localhost:8080/",
     "height": 34
    },
    "id": "71NLk_lpFLNt",
    "outputId": "97cb88db-754f-4375-fdc3-876cd6b4fdce"
   },
   "outputs": [
    {
     "name": "stdout",
     "output_type": "stream",
     "text": [
      "138552\n"
     ]
    }
   ],
   "source": [
    "print(len(embeddings_matrix))\n",
    "# Expected Output\n",
    "# 138859"
   ]
  },
  {
   "cell_type": "code",
   "execution_count": 29,
   "metadata": {
    "id": "iKKvbuEBOGFz"
   },
   "outputs": [
    {
     "name": "stdout",
     "output_type": "stream",
     "text": [
      "Model: \"sequential_2\"\n",
      "_________________________________________________________________\n",
      "Layer (type)                 Output Shape              Param #   \n",
      "=================================================================\n",
      "embedding_2 (Embedding)      (None, 16, 100)           13855200  \n",
      "_________________________________________________________________\n",
      "dropout_2 (Dropout)          (None, 16, 100)           0         \n",
      "_________________________________________________________________\n",
      "conv1d_2 (Conv1D)            (None, 12, 64)            32064     \n",
      "_________________________________________________________________\n",
      "max_pooling1d_2 (MaxPooling1 (None, 3, 64)             0         \n",
      "_________________________________________________________________\n",
      "lstm_2 (LSTM)                (None, 64)                33024     \n",
      "_________________________________________________________________\n",
      "dense_2 (Dense)              (None, 1)                 65        \n",
      "=================================================================\n",
      "Total params: 13,920,353\n",
      "Trainable params: 65,153\n",
      "Non-trainable params: 13,855,200\n",
      "_________________________________________________________________\n",
      "Epoch 1/50\n",
      "4500/4500 - 11s - loss: 0.5672 - accuracy: 0.6991 - val_loss: 0.5268 - val_accuracy: 0.7324\n",
      "Epoch 2/50\n",
      "4500/4500 - 11s - loss: 0.5270 - accuracy: 0.7315 - val_loss: 0.5131 - val_accuracy: 0.7433\n",
      "Epoch 3/50\n",
      "4500/4500 - 11s - loss: 0.5109 - accuracy: 0.7439 - val_loss: 0.5070 - val_accuracy: 0.7475\n",
      "Epoch 4/50\n",
      "4500/4500 - 11s - loss: 0.4984 - accuracy: 0.7529 - val_loss: 0.5044 - val_accuracy: 0.7517\n",
      "Epoch 5/50\n",
      "4500/4500 - 11s - loss: 0.4903 - accuracy: 0.7567 - val_loss: 0.5029 - val_accuracy: 0.7495\n",
      "Epoch 6/50\n",
      "4500/4500 - 11s - loss: 0.4825 - accuracy: 0.7631 - val_loss: 0.4996 - val_accuracy: 0.7499\n",
      "Epoch 7/50\n",
      "4500/4500 - 10s - loss: 0.4762 - accuracy: 0.7684 - val_loss: 0.5007 - val_accuracy: 0.7564\n",
      "Epoch 8/50\n",
      "4500/4500 - 11s - loss: 0.4726 - accuracy: 0.7692 - val_loss: 0.4976 - val_accuracy: 0.7544\n",
      "Epoch 9/50\n",
      "4500/4500 - 11s - loss: 0.4676 - accuracy: 0.7730 - val_loss: 0.4998 - val_accuracy: 0.7517\n",
      "Epoch 10/50\n",
      "4500/4500 - 11s - loss: 0.4641 - accuracy: 0.7752 - val_loss: 0.5024 - val_accuracy: 0.7536\n",
      "Epoch 11/50\n",
      "4500/4500 - 11s - loss: 0.4611 - accuracy: 0.7757 - val_loss: 0.4999 - val_accuracy: 0.7548\n",
      "Epoch 12/50\n",
      "4500/4500 - 11s - loss: 0.4573 - accuracy: 0.7793 - val_loss: 0.5076 - val_accuracy: 0.7546\n",
      "Epoch 13/50\n",
      "4500/4500 - 11s - loss: 0.4535 - accuracy: 0.7818 - val_loss: 0.5079 - val_accuracy: 0.7517\n",
      "Epoch 14/50\n",
      "4500/4500 - 11s - loss: 0.4520 - accuracy: 0.7820 - val_loss: 0.5042 - val_accuracy: 0.7536\n",
      "Epoch 15/50\n",
      "4500/4500 - 11s - loss: 0.4496 - accuracy: 0.7834 - val_loss: 0.5088 - val_accuracy: 0.7523\n",
      "Epoch 16/50\n",
      "4500/4500 - 10s - loss: 0.4475 - accuracy: 0.7852 - val_loss: 0.5148 - val_accuracy: 0.7489\n",
      "Epoch 17/50\n",
      "4500/4500 - 10s - loss: 0.4459 - accuracy: 0.7857 - val_loss: 0.5082 - val_accuracy: 0.7502\n",
      "Epoch 18/50\n",
      "4500/4500 - 10s - loss: 0.4448 - accuracy: 0.7871 - val_loss: 0.5142 - val_accuracy: 0.7495\n",
      "Epoch 19/50\n",
      "4500/4500 - 11s - loss: 0.4427 - accuracy: 0.7877 - val_loss: 0.5129 - val_accuracy: 0.7478\n",
      "Epoch 20/50\n",
      "4500/4500 - 11s - loss: 0.4414 - accuracy: 0.7878 - val_loss: 0.5131 - val_accuracy: 0.7473\n",
      "Epoch 21/50\n",
      "4500/4500 - 11s - loss: 0.4412 - accuracy: 0.7890 - val_loss: 0.5159 - val_accuracy: 0.7484\n",
      "Epoch 22/50\n",
      "4500/4500 - 11s - loss: 0.4408 - accuracy: 0.7887 - val_loss: 0.5188 - val_accuracy: 0.7476\n",
      "Epoch 23/50\n",
      "4500/4500 - 11s - loss: 0.4369 - accuracy: 0.7914 - val_loss: 0.5177 - val_accuracy: 0.7496\n",
      "Epoch 24/50\n",
      "4500/4500 - 11s - loss: 0.4362 - accuracy: 0.7909 - val_loss: 0.5165 - val_accuracy: 0.7496\n",
      "Epoch 25/50\n",
      "4500/4500 - 11s - loss: 0.4367 - accuracy: 0.7906 - val_loss: 0.5169 - val_accuracy: 0.7488\n",
      "Epoch 26/50\n",
      "4500/4500 - 11s - loss: 0.4360 - accuracy: 0.7923 - val_loss: 0.5184 - val_accuracy: 0.7489\n",
      "Epoch 27/50\n",
      "4500/4500 - 11s - loss: 0.4357 - accuracy: 0.7918 - val_loss: 0.5169 - val_accuracy: 0.7468\n",
      "Epoch 28/50\n",
      "4500/4500 - 11s - loss: 0.4341 - accuracy: 0.7929 - val_loss: 0.5145 - val_accuracy: 0.7476\n",
      "Epoch 29/50\n",
      "4500/4500 - 11s - loss: 0.4343 - accuracy: 0.7923 - val_loss: 0.5278 - val_accuracy: 0.7473\n",
      "Epoch 30/50\n",
      "4500/4500 - 11s - loss: 0.4346 - accuracy: 0.7929 - val_loss: 0.5162 - val_accuracy: 0.7447\n",
      "Epoch 31/50\n",
      "4500/4500 - 11s - loss: 0.4314 - accuracy: 0.7946 - val_loss: 0.5271 - val_accuracy: 0.7433\n",
      "Epoch 32/50\n",
      "4500/4500 - 11s - loss: 0.4323 - accuracy: 0.7929 - val_loss: 0.5214 - val_accuracy: 0.7473\n",
      "Epoch 33/50\n",
      "4500/4500 - 11s - loss: 0.4314 - accuracy: 0.7942 - val_loss: 0.5229 - val_accuracy: 0.7441\n",
      "Epoch 34/50\n",
      "4500/4500 - 11s - loss: 0.4314 - accuracy: 0.7966 - val_loss: 0.5215 - val_accuracy: 0.7441\n",
      "Epoch 35/50\n",
      "4500/4500 - 11s - loss: 0.4312 - accuracy: 0.7938 - val_loss: 0.5255 - val_accuracy: 0.7471\n",
      "Epoch 36/50\n",
      "4500/4500 - 11s - loss: 0.4318 - accuracy: 0.7948 - val_loss: 0.5227 - val_accuracy: 0.7470\n",
      "Epoch 37/50\n",
      "4500/4500 - 11s - loss: 0.4297 - accuracy: 0.7963 - val_loss: 0.5243 - val_accuracy: 0.7424\n",
      "Epoch 38/50\n",
      "4500/4500 - 11s - loss: 0.4283 - accuracy: 0.7970 - val_loss: 0.5179 - val_accuracy: 0.7478\n",
      "Epoch 39/50\n",
      "4500/4500 - 11s - loss: 0.4277 - accuracy: 0.7969 - val_loss: 0.5260 - val_accuracy: 0.7474\n",
      "Epoch 40/50\n",
      "4500/4500 - 11s - loss: 0.4275 - accuracy: 0.7980 - val_loss: 0.5256 - val_accuracy: 0.7449\n",
      "Epoch 41/50\n",
      "4500/4500 - 11s - loss: 0.4278 - accuracy: 0.7967 - val_loss: 0.5263 - val_accuracy: 0.7428\n",
      "Epoch 42/50\n",
      "4500/4500 - 11s - loss: 0.4287 - accuracy: 0.7960 - val_loss: 0.5276 - val_accuracy: 0.7427\n",
      "Epoch 43/50\n",
      "4500/4500 - 11s - loss: 0.4291 - accuracy: 0.7968 - val_loss: 0.5218 - val_accuracy: 0.7461\n",
      "Epoch 44/50\n",
      "4500/4500 - 11s - loss: 0.4276 - accuracy: 0.7967 - val_loss: 0.5242 - val_accuracy: 0.7464\n",
      "Epoch 45/50\n",
      "4500/4500 - 11s - loss: 0.4263 - accuracy: 0.7980 - val_loss: 0.5302 - val_accuracy: 0.7441\n",
      "Epoch 46/50\n",
      "4500/4500 - 11s - loss: 0.4260 - accuracy: 0.7971 - val_loss: 0.5325 - val_accuracy: 0.7409\n",
      "Epoch 47/50\n",
      "4500/4500 - 11s - loss: 0.4261 - accuracy: 0.7978 - val_loss: 0.5283 - val_accuracy: 0.7471\n",
      "Epoch 48/50\n",
      "4500/4500 - 11s - loss: 0.4259 - accuracy: 0.7983 - val_loss: 0.5252 - val_accuracy: 0.7451\n",
      "Epoch 49/50\n",
      "4500/4500 - 11s - loss: 0.4271 - accuracy: 0.7968 - val_loss: 0.5288 - val_accuracy: 0.7425\n",
      "Epoch 50/50\n",
      "4500/4500 - 11s - loss: 0.4269 - accuracy: 0.7980 - val_loss: 0.5264 - val_accuracy: 0.7440\n",
      "Training Complete\n"
     ]
    }
   ],
   "source": [
    "model = tf.keras.Sequential([\n",
    "    tf.keras.layers.Embedding(vocab_size+1, embedding_dim, input_length=max_length, weights=[embeddings_matrix], trainable=False),\n",
    "    tf.keras.layers.Dropout(0.2),\n",
    "    tf.keras.layers.Conv1D(64, 5, activation='relu'),\n",
    "    tf.keras.layers.MaxPooling1D(pool_size=4),\n",
    "    tf.keras.layers.LSTM(64),\n",
    "    tf.keras.layers.Dense(1, activation='sigmoid')\n",
    "])\n",
    "model.compile(loss='binary_crossentropy',optimizer='adam',metrics=['accuracy'])\n",
    "model.summary()\n",
    "\n",
    "num_epochs = 50\n",
    "\n",
    "training_padded = np.array(training_sequences)\n",
    "training_labels = np.array(training_labels)\n",
    "testing_padded = np.array(test_sequences)\n",
    "testing_labels = np.array(test_labels)\n",
    "\n",
    "history = model.fit(training_sequences, np.array(training_labels), epochs=num_epochs, validation_data=(test_sequences, np.array(test_labels)), verbose=2)\n",
    "\n",
    "print(\"Training Complete\")\n"
   ]
  },
  {
   "cell_type": "code",
   "execution_count": 30,
   "metadata": {
    "id": "qxju4ItJKO8F"
   },
   "outputs": [
    {
     "data": {
      "text/plain": [
       "<Figure size 432x288 with 0 Axes>"
      ]
     },
     "execution_count": 30,
     "metadata": {},
     "output_type": "execute_result"
    },
    {
     "data": {
      "image/png": "[encoded data removed]",
      "text/plain": [
       "<Figure size 432x288 with 1 Axes>"
      ]
     },
     "metadata": {
      "needs_background": "light"
     },
     "output_type": "display_data"
    },
    {
     "data": {
      "image/png": "[encoded data removed]",
      "text/plain": [
       "<Figure size 432x288 with 1 Axes>"
      ]
     },
     "metadata": {
      "needs_background": "light"
     },
     "output_type": "display_data"
    },
    {
     "data": {
      "text/plain": [
       "<Figure size 432x288 with 0 Axes>"
      ]
     },
     "metadata": {},
     "output_type": "display_data"
    }
   ],
   "source": [
    "import matplotlib.image  as mpimg\n",
    "import matplotlib.pyplot as plt\n",
    "\n",
    "#-----------------------------------------------------------\n",
    "# Retrieve a list of list results on training and test data\n",
    "# sets for each training epoch\n",
    "#-----------------------------------------------------------\n",
    "acc=history.history['accuracy']\n",
    "val_acc=history.history['val_accuracy']\n",
    "loss=history.history['loss']\n",
    "val_loss=history.history['val_loss']\n",
    "\n",
    "epochs=range(len(acc)) # Get number of epochs\n",
    "\n",
    "#------------------------------------------------\n",
    "# Plot training and validation accuracy per epoch\n",
    "#------------------------------------------------\n",
    "plt.plot(epochs, acc, 'r')\n",
    "plt.plot(epochs, val_acc, 'b')\n",
    "plt.title('Training and validation accuracy')\n",
    "plt.xlabel(\"Epochs\")\n",
    "plt.ylabel(\"Accuracy\")\n",
    "plt.legend([\"Accuracy\", \"Validation Accuracy\"])\n",
    "\n",
    "plt.figure()\n",
    "\n",
    "#------------------------------------------------\n",
    "# Plot training and validation loss per epoch\n",
    "#------------------------------------------------\n",
    "plt.plot(epochs, loss, 'r')\n",
    "plt.plot(epochs, val_loss, 'b')\n",
    "plt.title('Training and validation loss')\n",
    "plt.xlabel(\"Epochs\")\n",
    "plt.ylabel(\"Loss\")\n",
    "plt.legend([\"Loss\", \"Validation Loss\"])\n",
    "\n",
    "plt.figure()\n",
    "\n",
    "\n",
    "# Expected Output\n",
    "# A chart where the validation loss does not increase sharply!"
   ]
  },
  {
   "cell_type": "code",
   "execution_count": null,
   "metadata": {},
   "outputs": [],
   "source": []
  }
 ],
 "metadata": {
  "accelerator": "GPU",
  "colab": {
   "name": "NLP Course - Week 3 Exercise Question.ipynb",
   "provenance": [],
   "toc_visible": true
  },
  "kernelspec": {
   "display_name": "Python 3",
   "language": "python",
   "name": "python3"
  },
  "language_info": {
   "codemirror_mode": {
    "name": "ipython",
    "version": 3
   },
   "file_extension": ".py",
   "mimetype": "text/x-python",
   "name": "python",
   "nbconvert_exporter": "python",
   "pygments_lexer": "ipython3",
   "version": "3.6.7"
  },
  "toc": {
   "base_numbering": 1,
   "nav_menu": {},
   "number_sections": true,
   "sideBar": true,
   "skip_h1_title": false,
   "title_cell": "Table of Contents",
   "title_sidebar": "Contents",
   "toc_cell": false,
   "toc_position": {},
   "toc_section_display": true,
   "toc_window_display": false
  }
 },
 "nbformat": 4,
 "nbformat_minor": 1
}
