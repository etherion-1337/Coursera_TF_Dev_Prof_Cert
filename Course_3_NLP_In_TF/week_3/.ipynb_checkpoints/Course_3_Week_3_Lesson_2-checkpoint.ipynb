{
 "cells": [
  {
   "cell_type": "code",
   "execution_count": null,
   "metadata": {
    "id": "zX4Kg8DUTKWO"
   },
   "outputs": [],
   "source": [
    "#@title Licensed under the Apache License, Version 2.0 (the \"License\");\n",
    "# you may not use this file except in compliance with the License.\n",
    "# You may obtain a copy of the License at\n",
    "#\n",
    "# https://www.apache.org/licenses/LICENSE-2.0\n",
    "#\n",
    "# Unless required by applicable law or agreed to in writing, software\n",
    "# distributed under the License is distributed on an \"AS IS\" BASIS,\n",
    "# WITHOUT WARRANTIES OR CONDITIONS OF ANY KIND, either express or implied.\n",
    "# See the License for the specific language governing permissions and\n",
    "# limitations under the License."
   ]
  },
  {
   "cell_type": "markdown",
   "metadata": {
    "id": "oU9BFJrPW2h9"
   },
   "source": [
    "<a href=\"https://colab.research.google.com/github/lmoroney/dlaicourse/blob/master/TensorFlow%20In%20Practice/Course%203%20-%20NLP/Course%203%20-%20Week%203%20-%20Lesson%202.ipynb\" target=\"_parent\"><img src=\"https://colab.research.google.com/assets/colab-badge.svg\" alt=\"Open In Colab\"/></a>"
   ]
  },
  {
   "cell_type": "code",
   "execution_count": 3,
   "metadata": {
    "id": "jGwXGIXvFhXW"
   },
   "outputs": [
    {
     "name": "stdout",
     "output_type": "stream",
     "text": [
      "Model: \"sequential_2\"\n",
      "_________________________________________________________________\n",
      "Layer (type)                 Output Shape              Param #   \n",
      "=================================================================\n",
      "embedding_2 (Embedding)      (None, 120, 16)           16000     \n",
      "_________________________________________________________________\n",
      "bidirectional_2 (Bidirection (None, 64)                12544     \n",
      "_________________________________________________________________\n",
      "dense_4 (Dense)              (None, 24)                1560      \n",
      "_________________________________________________________________\n",
      "dense_5 (Dense)              (None, 1)                 25        \n",
      "=================================================================\n",
      "Total params: 30,129\n",
      "Trainable params: 30,129\n",
      "Non-trainable params: 0\n",
      "_________________________________________________________________\n",
      "Epoch 1/20\n",
      "625/625 [==============================] - 19s 30ms/step - loss: 0.4524 - accuracy: 0.7682 - val_loss: 0.3855 - val_accuracy: 0.8210\n",
      "Epoch 2/20\n",
      "625/625 [==============================] - 18s 29ms/step - loss: 0.3505 - accuracy: 0.8399 - val_loss: 0.3747 - val_accuracy: 0.8240\n",
      "Epoch 3/20\n",
      "625/625 [==============================] - 32s 52ms/step - loss: 0.3258 - accuracy: 0.8544 - val_loss: 0.3733 - val_accuracy: 0.8274\n",
      "Epoch 4/20\n",
      "625/625 [==============================] - 36s 57ms/step - loss: 0.3129 - accuracy: 0.8583 - val_loss: 0.3699 - val_accuracy: 0.8299\n",
      "Epoch 5/20\n",
      "625/625 [==============================] - 35s 55ms/step - loss: 0.3037 - accuracy: 0.8636 - val_loss: 0.3754 - val_accuracy: 0.8281\n",
      "Epoch 6/20\n",
      "625/625 [==============================] - 34s 54ms/step - loss: 0.2944 - accuracy: 0.8709 - val_loss: 0.3771 - val_accuracy: 0.8302\n",
      "Epoch 7/20\n",
      "625/625 [==============================] - 36s 57ms/step - loss: 0.2855 - accuracy: 0.8741 - val_loss: 0.3986 - val_accuracy: 0.8243\n",
      "Epoch 8/20\n",
      "625/625 [==============================] - 37s 59ms/step - loss: 0.2769 - accuracy: 0.8798 - val_loss: 0.3905 - val_accuracy: 0.8292\n",
      "Epoch 9/20\n",
      "625/625 [==============================] - 27s 44ms/step - loss: 0.2693 - accuracy: 0.8836 - val_loss: 0.3932 - val_accuracy: 0.8281\n",
      "Epoch 10/20\n",
      "625/625 [==============================] - 21s 34ms/step - loss: 0.2609 - accuracy: 0.8874 - val_loss: 0.3897 - val_accuracy: 0.8250\n",
      "Epoch 11/20\n",
      "625/625 [==============================] - 21s 33ms/step - loss: 0.2536 - accuracy: 0.8899 - val_loss: 0.3994 - val_accuracy: 0.8252\n",
      "Epoch 12/20\n",
      "625/625 [==============================] - 21s 33ms/step - loss: 0.2452 - accuracy: 0.8954 - val_loss: 0.4110 - val_accuracy: 0.8272\n",
      "Epoch 13/20\n",
      "625/625 [==============================] - 21s 33ms/step - loss: 0.2369 - accuracy: 0.8995 - val_loss: 0.4341 - val_accuracy: 0.8258\n",
      "Epoch 14/20\n",
      "625/625 [==============================] - 21s 34ms/step - loss: 0.2293 - accuracy: 0.9032 - val_loss: 0.4344 - val_accuracy: 0.8240\n",
      "Epoch 15/20\n",
      "625/625 [==============================] - 22s 35ms/step - loss: 0.2222 - accuracy: 0.9072 - val_loss: 0.4638 - val_accuracy: 0.8216\n",
      "Epoch 16/20\n",
      "625/625 [==============================] - 22s 35ms/step - loss: 0.2138 - accuracy: 0.9102 - val_loss: 0.4796 - val_accuracy: 0.8179\n",
      "Epoch 17/20\n",
      "625/625 [==============================] - 21s 34ms/step - loss: 0.2061 - accuracy: 0.9139 - val_loss: 0.5184 - val_accuracy: 0.8144\n",
      "Epoch 18/20\n",
      "625/625 [==============================] - 22s 35ms/step - loss: 0.1975 - accuracy: 0.9171 - val_loss: 0.5222 - val_accuracy: 0.8117\n",
      "Epoch 19/20\n",
      "625/625 [==============================] - 23s 36ms/step - loss: 0.1916 - accuracy: 0.9218 - val_loss: 0.5402 - val_accuracy: 0.8125\n",
      "Epoch 20/20\n",
      "625/625 [==============================] - 22s 35ms/step - loss: 0.1868 - accuracy: 0.9226 - val_loss: 0.5599 - val_accuracy: 0.8089\n"
     ]
    }
   ],
   "source": [
    "import numpy as np\n",
    "\n",
    "import json\n",
    "import tensorflow as tf\n",
    "\n",
    "from tensorflow.keras.preprocessing.text import Tokenizer\n",
    "from tensorflow.keras.preprocessing.sequence import pad_sequences\n",
    "\n",
    "#!wget --no-check-certificate \\\n",
    "#    https://storage.googleapis.com/laurencemoroney-blog.appspot.com/sarcasm.json \\\n",
    "#    -O /tmp/sarcasm.json\n",
    "\n",
    "vocab_size = 1000\n",
    "embedding_dim = 16\n",
    "max_length = 120\n",
    "trunc_type='post'\n",
    "padding_type='post'\n",
    "oov_tok = \"<OOV>\"\n",
    "training_size = 20000\n",
    "\n",
    "\n",
    "with open(\"../../data/course_3/sarcasm.json\", 'r') as f:\n",
    "    datastore = json.load(f)\n",
    "\n",
    "\n",
    "sentences = []\n",
    "labels = []\n",
    "urls = []\n",
    "for item in datastore:\n",
    "    sentences.append(item['headline'])\n",
    "    labels.append(item['is_sarcastic'])\n",
    "\n",
    "training_sentences = sentences[0:training_size]\n",
    "testing_sentences = sentences[training_size:]\n",
    "training_labels = labels[0:training_size]\n",
    "testing_labels = labels[training_size:]\n",
    "\n",
    "tokenizer = Tokenizer(num_words=vocab_size, oov_token=oov_tok)\n",
    "tokenizer.fit_on_texts(training_sentences)\n",
    "\n",
    "word_index = tokenizer.word_index\n",
    "\n",
    "training_sequences = tokenizer.texts_to_sequences(training_sentences)\n",
    "training_padded = pad_sequences(training_sequences, maxlen=max_length, padding=padding_type, truncating=trunc_type)\n",
    "\n",
    "testing_sequences = tokenizer.texts_to_sequences(testing_sentences)\n",
    "testing_padded = pad_sequences(testing_sequences, maxlen=max_length, padding=padding_type, truncating=trunc_type)\n",
    "\n",
    "model = tf.keras.Sequential([\n",
    "    tf.keras.layers.Embedding(vocab_size, embedding_dim, input_length=max_length),\n",
    "    tf.keras.layers.Bidirectional(tf.keras.layers.LSTM(32)),\n",
    "    tf.keras.layers.Dense(24, activation='relu'),\n",
    "    tf.keras.layers.Dense(1, activation='sigmoid')\n",
    "])\n",
    "model.compile(loss='binary_crossentropy',optimizer='adam',metrics=['accuracy'])\n",
    "model.summary()\n",
    "\n",
    "num_epochs = 20\n",
    "training_padded = np.array(training_padded)\n",
    "training_labels = np.array(training_labels)\n",
    "testing_padded = np.array(testing_padded)\n",
    "testing_labels = np.array(testing_labels)\n",
    "history = model.fit(training_padded, training_labels, epochs=num_epochs, validation_data=(testing_padded, testing_labels), verbose=1)\n"
   ]
  },
  {
   "cell_type": "code",
   "execution_count": 4,
   "metadata": {
    "id": "g9DC6dmLF8DC"
   },
   "outputs": [
    {
     "data": {
      "image/png": "[encoded data removed]",
      "text/plain": [
       "<Figure size 432x288 with 1 Axes>"
      ]
     },
     "metadata": {
      "needs_background": "light"
     },
     "output_type": "display_data"
    },
    {
     "data": {
      "image/png": "[encoded data removed]",
      "text/plain": [
       "<Figure size 432x288 with 1 Axes>"
      ]
     },
     "metadata": {
      "needs_background": "light"
     },
     "output_type": "display_data"
    }
   ],
   "source": [
    "import matplotlib.pyplot as plt\n",
    "\n",
    "\n",
    "def plot_graphs(history, string):\n",
    "    plt.plot(history.history[string])\n",
    "    plt.plot(history.history['val_'+string])\n",
    "    plt.xlabel(\"Epochs\")\n",
    "    plt.ylabel(string)\n",
    "    plt.legend([string, 'val_'+string])\n",
    "    plt.show()\n",
    "\n",
    "plot_graphs(history, 'accuracy')\n",
    "plot_graphs(history, 'loss')"
   ]
  },
  {
   "cell_type": "code",
   "execution_count": null,
   "metadata": {
    "id": "7ZEZIUppGhdi"
   },
   "outputs": [],
   "source": [
    "#model.save(\"test.h5\")"
   ]
  }
 ],
 "metadata": {
  "accelerator": "GPU",
  "colab": {
   "collapsed_sections": [],
   "name": "Course 3 - Week 3 - Lesson 2.ipynb",
   "provenance": [],
   "toc_visible": true
  },
  "kernelspec": {
   "display_name": "Python 3",
   "language": "python",
   "name": "python3"
  },
  "language_info": {
   "codemirror_mode": {
    "name": "ipython",
    "version": 3
   },
   "file_extension": ".py",
   "mimetype": "text/x-python",
   "name": "python",
   "nbconvert_exporter": "python",
   "pygments_lexer": "ipython3",
   "version": "3.6.7"
  },
  "toc": {
   "base_numbering": 1,
   "nav_menu": {},
   "number_sections": true,
   "sideBar": true,
   "skip_h1_title": false,
   "title_cell": "Table of Contents",
   "title_sidebar": "Contents",
   "toc_cell": false,
   "toc_position": {},
   "toc_section_display": true,
   "toc_window_display": false
  }
 },
 "nbformat": 4,
 "nbformat_minor": 1
}
