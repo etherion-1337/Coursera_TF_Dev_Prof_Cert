{
 "cells": [
  {
   "cell_type": "code",
   "execution_count": null,
   "metadata": {
    "id": "zX4Kg8DUTKWO"
   },
   "outputs": [],
   "source": [
    "#@title Licensed under the Apache License, Version 2.0 (the \"License\");\n",
    "# you may not use this file except in compliance with the License.\n",
    "# You may obtain a copy of the License at\n",
    "#\n",
    "# https://www.apache.org/licenses/LICENSE-2.0\n",
    "#\n",
    "# Unless required by applicable law or agreed to in writing, software\n",
    "# distributed under the License is distributed on an \"AS IS\" BASIS,\n",
    "# WITHOUT WARRANTIES OR CONDITIONS OF ANY KIND, either express or implied.\n",
    "# See the License for the specific language governing permissions and\n",
    "# limitations under the License."
   ]
  },
  {
   "cell_type": "markdown",
   "metadata": {
    "id": "xUvDZFm0W28I"
   },
   "source": [
    "<a href=\"https://colab.research.google.com/github/lmoroney/dlaicourse/blob/master/TensorFlow%20In%20Practice/Course%203%20-%20NLP/Course%203%20-%20Week%203%20-%20Lesson%202c.ipynb\" target=\"_parent\"><img src=\"https://colab.research.google.com/assets/colab-badge.svg\" alt=\"Open In Colab\"/></a>"
   ]
  },
  {
   "cell_type": "code",
   "execution_count": 1,
   "metadata": {
    "id": "jGwXGIXvFhXW"
   },
   "outputs": [
    {
     "name": "stdout",
     "output_type": "stream",
     "text": [
      "Model: \"sequential\"\n",
      "_________________________________________________________________\n",
      "Layer (type)                 Output Shape              Param #   \n",
      "=================================================================\n",
      "embedding (Embedding)        (None, 120, 16)           16000     \n",
      "_________________________________________________________________\n",
      "conv1d (Conv1D)              (None, 116, 128)          10368     \n",
      "_________________________________________________________________\n",
      "global_max_pooling1d (Global (None, 128)               0         \n",
      "_________________________________________________________________\n",
      "dense (Dense)                (None, 24)                3096      \n",
      "_________________________________________________________________\n",
      "dense_1 (Dense)              (None, 1)                 25        \n",
      "=================================================================\n",
      "Total params: 29,489\n",
      "Trainable params: 29,489\n",
      "Non-trainable params: 0\n",
      "_________________________________________________________________\n",
      "Epoch 1/50\n",
      "625/625 [==============================] - 4s 6ms/step - loss: 0.4812 - accuracy: 0.7517 - val_loss: 0.4114 - val_accuracy: 0.8137\n",
      "Epoch 2/50\n",
      "625/625 [==============================] - 4s 7ms/step - loss: 0.3650 - accuracy: 0.8341 - val_loss: 0.3971 - val_accuracy: 0.8205\n",
      "Epoch 3/50\n",
      "625/625 [==============================] - 4s 7ms/step - loss: 0.3286 - accuracy: 0.8531 - val_loss: 0.4186 - val_accuracy: 0.8062\n",
      "Epoch 4/50\n",
      "625/625 [==============================] - 4s 7ms/step - loss: 0.2989 - accuracy: 0.8687 - val_loss: 0.4099 - val_accuracy: 0.8170\n",
      "Epoch 5/50\n",
      "625/625 [==============================] - 4s 7ms/step - loss: 0.2696 - accuracy: 0.8853 - val_loss: 0.4318 - val_accuracy: 0.8140\n",
      "Epoch 6/50\n",
      "625/625 [==============================] - 5s 7ms/step - loss: 0.2405 - accuracy: 0.9010 - val_loss: 0.4535 - val_accuracy: 0.8103\n",
      "Epoch 7/50\n",
      "625/625 [==============================] - 4s 7ms/step - loss: 0.2104 - accuracy: 0.9147 - val_loss: 0.4795 - val_accuracy: 0.8132\n",
      "Epoch 8/50\n",
      "625/625 [==============================] - 5s 7ms/step - loss: 0.1822 - accuracy: 0.9292 - val_loss: 0.5181 - val_accuracy: 0.8073\n",
      "Epoch 9/50\n",
      "625/625 [==============================] - 5s 7ms/step - loss: 0.1548 - accuracy: 0.9416 - val_loss: 0.5814 - val_accuracy: 0.8123\n",
      "Epoch 10/50\n",
      "625/625 [==============================] - 5s 7ms/step - loss: 0.1287 - accuracy: 0.9536 - val_loss: 0.6431 - val_accuracy: 0.8044\n",
      "Epoch 11/50\n",
      "625/625 [==============================] - 5s 7ms/step - loss: 0.1099 - accuracy: 0.9609 - val_loss: 0.7153 - val_accuracy: 0.7973\n",
      "Epoch 12/50\n",
      "625/625 [==============================] - 5s 7ms/step - loss: 0.0905 - accuracy: 0.9690 - val_loss: 0.8225 - val_accuracy: 0.7940\n",
      "Epoch 13/50\n",
      "625/625 [==============================] - 4s 7ms/step - loss: 0.0773 - accuracy: 0.9732 - val_loss: 0.8805 - val_accuracy: 0.7949\n",
      "Epoch 14/50\n",
      "625/625 [==============================] - 4s 7ms/step - loss: 0.0665 - accuracy: 0.9772 - val_loss: 0.9773 - val_accuracy: 0.7877\n",
      "Epoch 15/50\n",
      "625/625 [==============================] - 4s 7ms/step - loss: 0.0589 - accuracy: 0.9796 - val_loss: 1.0248 - val_accuracy: 0.7930\n",
      "Epoch 16/50\n",
      "625/625 [==============================] - 4s 7ms/step - loss: 0.0533 - accuracy: 0.9800 - val_loss: 1.1326 - val_accuracy: 0.7945\n",
      "Epoch 17/50\n",
      "625/625 [==============================] - 4s 7ms/step - loss: 0.0511 - accuracy: 0.9816 - val_loss: 1.2250 - val_accuracy: 0.7949\n",
      "Epoch 18/50\n",
      "625/625 [==============================] - 4s 7ms/step - loss: 0.0431 - accuracy: 0.9844 - val_loss: 1.2621 - val_accuracy: 0.7901\n",
      "Epoch 19/50\n",
      "625/625 [==============================] - 4s 7ms/step - loss: 0.0428 - accuracy: 0.9839 - val_loss: 1.3044 - val_accuracy: 0.7915\n",
      "Epoch 20/50\n",
      "625/625 [==============================] - 4s 7ms/step - loss: 0.0407 - accuracy: 0.9850 - val_loss: 1.3685 - val_accuracy: 0.7886\n",
      "Epoch 21/50\n",
      "625/625 [==============================] - 5s 7ms/step - loss: 0.0354 - accuracy: 0.9869 - val_loss: 1.5257 - val_accuracy: 0.7840\n",
      "Epoch 22/50\n",
      "625/625 [==============================] - 4s 7ms/step - loss: 0.0340 - accuracy: 0.9873 - val_loss: 1.6223 - val_accuracy: 0.7854\n",
      "Epoch 23/50\n",
      "625/625 [==============================] - 4s 7ms/step - loss: 0.0319 - accuracy: 0.9874 - val_loss: 1.5515 - val_accuracy: 0.7843\n",
      "Epoch 24/50\n",
      "625/625 [==============================] - 4s 7ms/step - loss: 0.0344 - accuracy: 0.9864 - val_loss: 1.6563 - val_accuracy: 0.7795\n",
      "Epoch 25/50\n",
      "625/625 [==============================] - 4s 7ms/step - loss: 0.0330 - accuracy: 0.9871 - val_loss: 1.7359 - val_accuracy: 0.7836\n",
      "Epoch 26/50\n",
      "625/625 [==============================] - 4s 7ms/step - loss: 0.0271 - accuracy: 0.9890 - val_loss: 1.7625 - val_accuracy: 0.7912\n",
      "Epoch 27/50\n",
      "625/625 [==============================] - 4s 7ms/step - loss: 0.0259 - accuracy: 0.9897 - val_loss: 1.7982 - val_accuracy: 0.7891\n",
      "Epoch 28/50\n",
      "625/625 [==============================] - 4s 7ms/step - loss: 0.0256 - accuracy: 0.9890 - val_loss: 1.8867 - val_accuracy: 0.7867\n",
      "Epoch 29/50\n",
      "625/625 [==============================] - 4s 7ms/step - loss: 0.0305 - accuracy: 0.9876 - val_loss: 1.9002 - val_accuracy: 0.7864\n",
      "Epoch 30/50\n",
      "625/625 [==============================] - 4s 7ms/step - loss: 0.0295 - accuracy: 0.9873 - val_loss: 1.9939 - val_accuracy: 0.7809\n",
      "Epoch 31/50\n",
      "625/625 [==============================] - 4s 7ms/step - loss: 0.0270 - accuracy: 0.9893 - val_loss: 2.0017 - val_accuracy: 0.7885\n",
      "Epoch 32/50\n",
      "625/625 [==============================] - 5s 7ms/step - loss: 0.0279 - accuracy: 0.9884 - val_loss: 2.2060 - val_accuracy: 0.7852\n",
      "Epoch 33/50\n",
      "625/625 [==============================] - 5s 7ms/step - loss: 0.0277 - accuracy: 0.9891 - val_loss: 2.0143 - val_accuracy: 0.7928\n",
      "Epoch 34/50\n",
      "625/625 [==============================] - 5s 7ms/step - loss: 0.0208 - accuracy: 0.9912 - val_loss: 2.0473 - val_accuracy: 0.7836\n",
      "Epoch 35/50\n",
      "625/625 [==============================] - 5s 7ms/step - loss: 0.0201 - accuracy: 0.9911 - val_loss: 2.1860 - val_accuracy: 0.7794\n",
      "Epoch 36/50\n",
      "625/625 [==============================] - 5s 7ms/step - loss: 0.0213 - accuracy: 0.9904 - val_loss: 2.1400 - val_accuracy: 0.7885\n",
      "Epoch 37/50\n",
      "625/625 [==============================] - 5s 7ms/step - loss: 0.0222 - accuracy: 0.9901 - val_loss: 2.2034 - val_accuracy: 0.7815\n",
      "Epoch 38/50\n",
      "625/625 [==============================] - 5s 7ms/step - loss: 0.0252 - accuracy: 0.9889 - val_loss: 2.2468 - val_accuracy: 0.7840\n",
      "Epoch 39/50\n",
      "625/625 [==============================] - 4s 7ms/step - loss: 0.0215 - accuracy: 0.9907 - val_loss: 2.3159 - val_accuracy: 0.7872\n",
      "Epoch 40/50\n",
      "625/625 [==============================] - 5s 7ms/step - loss: 0.0208 - accuracy: 0.9908 - val_loss: 2.2732 - val_accuracy: 0.7895\n",
      "Epoch 41/50\n",
      "625/625 [==============================] - 5s 7ms/step - loss: 0.0228 - accuracy: 0.9906 - val_loss: 2.2824 - val_accuracy: 0.7848\n",
      "Epoch 42/50\n",
      "625/625 [==============================] - 5s 8ms/step - loss: 0.0210 - accuracy: 0.9906 - val_loss: 2.3116 - val_accuracy: 0.7879\n",
      "Epoch 43/50\n",
      "625/625 [==============================] - 5s 7ms/step - loss: 0.0211 - accuracy: 0.9909 - val_loss: 2.3955 - val_accuracy: 0.7900\n",
      "Epoch 44/50\n",
      "625/625 [==============================] - 5s 7ms/step - loss: 0.0213 - accuracy: 0.9914 - val_loss: 2.3131 - val_accuracy: 0.7827\n",
      "Epoch 45/50\n",
      "625/625 [==============================] - 5s 7ms/step - loss: 0.0201 - accuracy: 0.9910 - val_loss: 2.4376 - val_accuracy: 0.7894\n",
      "Epoch 46/50\n",
      "625/625 [==============================] - 5s 7ms/step - loss: 0.0184 - accuracy: 0.9916 - val_loss: 2.4591 - val_accuracy: 0.7910\n",
      "Epoch 47/50\n",
      "625/625 [==============================] - 4s 7ms/step - loss: 0.0209 - accuracy: 0.9909 - val_loss: 2.6315 - val_accuracy: 0.7836\n",
      "Epoch 48/50\n",
      "625/625 [==============================] - 4s 7ms/step - loss: 0.0246 - accuracy: 0.9898 - val_loss: 2.5215 - val_accuracy: 0.7849\n",
      "Epoch 49/50\n",
      "625/625 [==============================] - 4s 7ms/step - loss: 0.0214 - accuracy: 0.9904 - val_loss: 2.6935 - val_accuracy: 0.7898\n",
      "Epoch 50/50\n",
      "625/625 [==============================] - 4s 7ms/step - loss: 0.0200 - accuracy: 0.9911 - val_loss: 2.5164 - val_accuracy: 0.7903\n"
     ]
    }
   ],
   "source": [
    "import numpy as np\n",
    "\n",
    "import json\n",
    "import tensorflow as tf\n",
    "\n",
    "from tensorflow.keras.preprocessing.text import Tokenizer\n",
    "from tensorflow.keras.preprocessing.sequence import pad_sequences\n",
    "\n",
    "#!wget --no-check-certificate \\\n",
    "#    https://storage.googleapis.com/laurencemoroney-blog.appspot.com/sarcasm.json \\\n",
    "#    -O /tmp/sarcasm.json\n",
    "\n",
    "vocab_size = 1000\n",
    "embedding_dim = 16\n",
    "max_length = 120\n",
    "trunc_type='post'\n",
    "padding_type='post'\n",
    "oov_tok = \"<OOV>\"\n",
    "training_size = 20000\n",
    "\n",
    "\n",
    "with open(\"../../data/course_3/sarcasm.json\", 'r') as f:\n",
    "    datastore = json.load(f)\n",
    "\n",
    "\n",
    "sentences = []\n",
    "labels = []\n",
    "urls = []\n",
    "for item in datastore:\n",
    "    sentences.append(item['headline'])\n",
    "    labels.append(item['is_sarcastic'])\n",
    "\n",
    "training_sentences = sentences[0:training_size]\n",
    "testing_sentences = sentences[training_size:]\n",
    "training_labels = labels[0:training_size]\n",
    "testing_labels = labels[training_size:]\n",
    "\n",
    "tokenizer = Tokenizer(num_words=vocab_size, oov_token=oov_tok)\n",
    "tokenizer.fit_on_texts(training_sentences)\n",
    "\n",
    "word_index = tokenizer.word_index\n",
    "\n",
    "training_sequences = tokenizer.texts_to_sequences(training_sentences)\n",
    "training_padded = pad_sequences(training_sequences, maxlen=max_length, padding=padding_type, truncating=trunc_type)\n",
    "\n",
    "testing_sequences = tokenizer.texts_to_sequences(testing_sentences)\n",
    "testing_padded = pad_sequences(testing_sequences, maxlen=max_length, padding=padding_type, truncating=trunc_type)\n",
    "\n",
    "model = tf.keras.Sequential([\n",
    "    tf.keras.layers.Embedding(vocab_size, embedding_dim, input_length=max_length),\n",
    "    tf.keras.layers.Conv1D(128, 5, activation='relu'),\n",
    "    tf.keras.layers.GlobalMaxPooling1D(),\n",
    "    tf.keras.layers.Dense(24, activation='relu'),\n",
    "    tf.keras.layers.Dense(1, activation='sigmoid')\n",
    "])\n",
    "model.compile(loss='binary_crossentropy',optimizer='adam',metrics=['accuracy'])\n",
    "model.summary()\n",
    "\n",
    "num_epochs = 50\n",
    "\n",
    "training_padded = np.array(training_padded)\n",
    "training_labels = np.array(training_labels)\n",
    "testing_padded = np.array(testing_padded)\n",
    "testing_labels = np.array(testing_labels)\n",
    "\n",
    "history = model.fit(training_padded, training_labels, epochs=num_epochs, validation_data=(testing_padded, testing_labels), verbose=1)\n"
   ]
  },
  {
   "cell_type": "code",
   "execution_count": 2,
   "metadata": {
    "id": "g9DC6dmLF8DC"
   },
   "outputs": [
    {
     "data": {
      "image/png": "[encoded data removed]",
      "text/plain": [
       "<Figure size 432x288 with 1 Axes>"
      ]
     },
     "metadata": {
      "needs_background": "light"
     },
     "output_type": "display_data"
    },
    {
     "data": {
      "image/png": "[encoded data removed]",
      "text/plain": [
       "<Figure size 432x288 with 1 Axes>"
      ]
     },
     "metadata": {
      "needs_background": "light"
     },
     "output_type": "display_data"
    }
   ],
   "source": [
    "import matplotlib.pyplot as plt\n",
    "\n",
    "\n",
    "def plot_graphs(history, string):\n",
    "    plt.plot(history.history[string])\n",
    "    plt.plot(history.history['val_'+string])\n",
    "    plt.xlabel(\"Epochs\")\n",
    "    plt.ylabel(string)\n",
    "    plt.legend([string, 'val_'+string])\n",
    "    plt.show()\n",
    "\n",
    "plot_graphs(history, 'accuracy')\n",
    "plot_graphs(history, 'loss')"
   ]
  },
  {
   "cell_type": "code",
   "execution_count": null,
   "metadata": {
    "id": "7ZEZIUppGhdi"
   },
   "outputs": [],
   "source": [
    "# model.save(\"test.h5\")"
   ]
  }
 ],
 "metadata": {
  "accelerator": "GPU",
  "colab": {
   "collapsed_sections": [],
   "name": "Course 3 - Week 3 - Lesson 2c.ipynb",
   "provenance": [],
   "toc_visible": true
  },
  "kernelspec": {
   "display_name": "Python 3",
   "language": "python",
   "name": "python3"
  },
  "language_info": {
   "codemirror_mode": {
    "name": "ipython",
    "version": 3
   },
   "file_extension": ".py",
   "mimetype": "text/x-python",
   "name": "python",
   "nbconvert_exporter": "python",
   "pygments_lexer": "ipython3",
   "version": "3.6.7"
  },
  "toc": {
   "base_numbering": 1,
   "nav_menu": {},
   "number_sections": true,
   "sideBar": true,
   "skip_h1_title": false,
   "title_cell": "Table of Contents",
   "title_sidebar": "Contents",
   "toc_cell": false,
   "toc_position": {},
   "toc_section_display": true,
   "toc_window_display": false
  }
 },
 "nbformat": 4,
 "nbformat_minor": 1
}
