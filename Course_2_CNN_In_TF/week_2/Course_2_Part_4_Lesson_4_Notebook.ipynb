{
 "cells": [
  {
   "cell_type": "markdown",
   "metadata": {
    "id": "rX8mhOLljYeM"
   },
   "source": [
    "##### Copyright 2019 The TensorFlow Authors."
   ]
  },
  {
   "cell_type": "code",
   "execution_count": null,
   "metadata": {
    "cellView": "form",
    "id": "BZSlp3DAjdYf"
   },
   "outputs": [],
   "source": [
    "#@title Licensed under the Apache License, Version 2.0 (the \"License\");\n",
    "# you may not use this file except in compliance with the License.\n",
    "# You may obtain a copy of the License at\n",
    "#\n",
    "# https://www.apache.org/licenses/LICENSE-2.0\n",
    "#\n",
    "# Unless required by applicable law or agreed to in writing, software\n",
    "# distributed under the License is distributed on an \"AS IS\" BASIS,\n",
    "# WITHOUT WARRANTIES OR CONDITIONS OF ANY KIND, either express or implied.\n",
    "# See the License for the specific language governing permissions and\n",
    "# limitations under the License."
   ]
  },
  {
   "cell_type": "code",
   "execution_count": null,
   "metadata": {
    "id": "RXZT2UsyIVe_"
   },
   "outputs": [],
   "source": [
    "# !wget --no-check-certificate \\\n",
    "#     https://storage.googleapis.com/laurencemoroney-blog.appspot.com/horse-or-human.zip \\\n",
    "#     -O /tmp/horse-or-human.zip\n",
    "\n",
    "# !wget --no-check-certificate \\\n",
    "#     https://storage.googleapis.com/laurencemoroney-blog.appspot.com/validation-horse-or-human.zip \\\n",
    "#     -O /tmp/validation-horse-or-human.zip\n",
    "  \n",
    "# import os\n",
    "# import zipfile\n",
    "\n",
    "# local_zip = '/tmp/horse-or-human.zip'\n",
    "# zip_ref = zipfile.ZipFile(local_zip, 'r')\n",
    "# zip_ref.extractall('/tmp/horse-or-human')\n",
    "# local_zip = '/tmp/validation-horse-or-human.zip'\n",
    "# zip_ref = zipfile.ZipFile(local_zip, 'r')\n",
    "# zip_ref.extractall('/tmp/validation-horse-or-human')\n",
    "# zip_ref.close()\n",
    "# # Directory with our training horse pictures\n",
    "# train_horse_dir = os.path.join('/tmp/horse-or-human/horses')\n",
    "\n",
    "# # Directory with our training human pictures\n",
    "# train_human_dir = os.path.join('/tmp/horse-or-human/humans')\n",
    "\n",
    "# # Directory with our training horse pictures\n",
    "# validation_horse_dir = os.path.join('/tmp/validation-horse-or-human/horses')\n",
    "\n",
    "# # Directory with our training human pictures\n",
    "# validation_human_dir = os.path.join('/tmp/validation-horse-or-human/humans')"
   ]
  },
  {
   "cell_type": "code",
   "execution_count": 1,
   "metadata": {},
   "outputs": [],
   "source": [
    "import os\n",
    "\n",
    "# Directory with our training horse pictures\n",
    "train_horse_dir = os.path.join('../../data/course_1/horse-or-human/horses')\n",
    "\n",
    "# Directory with our training human pictures\n",
    "train_human_dir = os.path.join('../../data/course_1/horse-or-human/humans')\n",
    "\n",
    "# Directory with our training horse pictures\n",
    "validation_horse_dir = os.path.join('../../data/course_1/validation-horse-or-human/horses')\n",
    "\n",
    "# Directory with our training human pictures\n",
    "validation_human_dir = os.path.join('../../data/course_1/validation-horse-or-human/humans')"
   ]
  },
  {
   "cell_type": "markdown",
   "metadata": {
    "id": "5oqBkNBJmtUv"
   },
   "source": [
    "## Building a Small Model from Scratch\n",
    "\n",
    "But before we continue, let's start defining the model:\n",
    "\n",
    "Step 1 will be to import tensorflow."
   ]
  },
  {
   "cell_type": "code",
   "execution_count": 2,
   "metadata": {
    "id": "qvfZg3LQbD-5"
   },
   "outputs": [],
   "source": [
    "import tensorflow as tf"
   ]
  },
  {
   "cell_type": "markdown",
   "metadata": {
    "id": "BnhYCP4tdqjC"
   },
   "source": [
    "We then add convolutional layers as in the previous example, and flatten the final result to feed into the densely connected layers."
   ]
  },
  {
   "cell_type": "markdown",
   "metadata": {
    "id": "gokG5HKpdtzm"
   },
   "source": [
    "Finally we add the densely connected layers. \n",
    "\n",
    "Note that because we are facing a two-class classification problem, i.e. a *binary classification problem*, we will end our network with a [*sigmoid* activation](https://wikipedia.org/wiki/Sigmoid_function), so that the output of our network will be a single scalar between 0 and 1, encoding the probability that the current image is class 1 (as opposed to class 0)."
   ]
  },
  {
   "cell_type": "code",
   "execution_count": 3,
   "metadata": {
    "id": "PixZ2s5QbYQ3"
   },
   "outputs": [],
   "source": [
    "model = tf.keras.models.Sequential([\n",
    "    # Note the input shape is the desired size of the image 300x300 with 3 bytes color\n",
    "    # This is the first convolution\n",
    "    tf.keras.layers.Conv2D(16, (3,3), activation='relu', input_shape=(300, 300, 3)),\n",
    "    tf.keras.layers.MaxPooling2D(2, 2),\n",
    "    # The second convolution\n",
    "    tf.keras.layers.Conv2D(32, (3,3), activation='relu'),\n",
    "    tf.keras.layers.MaxPooling2D(2,2),\n",
    "    # The third convolution\n",
    "    tf.keras.layers.Conv2D(64, (3,3), activation='relu'),\n",
    "    tf.keras.layers.MaxPooling2D(2,2),\n",
    "    # The fourth convolution\n",
    "    tf.keras.layers.Conv2D(64, (3,3), activation='relu'),\n",
    "    tf.keras.layers.MaxPooling2D(2,2),\n",
    "    # The fifth convolution\n",
    "    tf.keras.layers.Conv2D(64, (3,3), activation='relu'),\n",
    "    tf.keras.layers.MaxPooling2D(2,2),\n",
    "    # Flatten the results to feed into a DNN\n",
    "    tf.keras.layers.Flatten(),\n",
    "    # 512 neuron hidden layer\n",
    "    tf.keras.layers.Dense(512, activation='relu'),\n",
    "    # Only 1 output neuron. It will contain a value from 0-1 where 0 for 1 class ('horses') and 1 for the other ('humans')\n",
    "    tf.keras.layers.Dense(1, activation='sigmoid')\n",
    "])"
   ]
  },
  {
   "cell_type": "code",
   "execution_count": 4,
   "metadata": {
    "id": "8DHWhFP_uhq3"
   },
   "outputs": [],
   "source": [
    "from tensorflow.keras.optimizers import RMSprop\n",
    "\n",
    "model.compile(loss='binary_crossentropy',\n",
    "              optimizer=RMSprop(lr=1e-4),\n",
    "              metrics=['accuracy'])"
   ]
  },
  {
   "cell_type": "code",
   "execution_count": 5,
   "metadata": {
    "id": "ClebU9NJg99G"
   },
   "outputs": [
    {
     "name": "stdout",
     "output_type": "stream",
     "text": [
      "Found 1027 images belonging to 2 classes.\n",
      "Found 256 images belonging to 2 classes.\n"
     ]
    }
   ],
   "source": [
    "from tensorflow.keras.preprocessing.image import ImageDataGenerator\n",
    "\n",
    "# All images will be rescaled by 1./255\n",
    "train_datagen = ImageDataGenerator(\n",
    "      rescale=1./255,\n",
    "      rotation_range=40,\n",
    "      width_shift_range=0.2,\n",
    "      height_shift_range=0.2,\n",
    "      shear_range=0.2,\n",
    "      zoom_range=0.2,\n",
    "      horizontal_flip=True,\n",
    "      fill_mode='nearest')\n",
    "\n",
    "validation_datagen = ImageDataGenerator(rescale=1/255)\n",
    "\n",
    "# Flow training images in batches of 128 using train_datagen generator\n",
    "train_generator = train_datagen.flow_from_directory(\n",
    "        '../../data/course_1/horse-or-human/',  # This is the source directory for training images\n",
    "        target_size=(300, 300),  # All images will be resized to 150x150\n",
    "        batch_size=128,\n",
    "        # Since we use binary_crossentropy loss, we need binary labels\n",
    "        class_mode='binary')\n",
    "\n",
    "# Flow training images in batches of 128 using train_datagen generator\n",
    "validation_generator = validation_datagen.flow_from_directory(\n",
    "        '../../data/course_1/validation-horse-or-human/',  # This is the source directory for training images\n",
    "        target_size=(300, 300),  # All images will be resized to 150x150\n",
    "        batch_size=32,\n",
    "        # Since we use binary_crossentropy loss, we need binary labels\n",
    "        class_mode='binary')"
   ]
  },
  {
   "cell_type": "code",
   "execution_count": 6,
   "metadata": {
    "id": "Fb1_lgobv81m"
   },
   "outputs": [
    {
     "name": "stdout",
     "output_type": "stream",
     "text": [
      "Epoch 1/40\n",
      "8/8 [==============================] - 30s 4s/step - loss: 0.6914 - accuracy: 0.5139 - val_loss: 0.6665 - val_accuracy: 0.5273\n",
      "Epoch 2/40\n",
      "8/8 [==============================] - 30s 4s/step - loss: 0.6585 - accuracy: 0.6992 - val_loss: 0.6497 - val_accuracy: 0.5078\n",
      "Epoch 3/40\n",
      "8/8 [==============================] - 27s 3s/step - loss: 0.6081 - accuracy: 0.7119 - val_loss: 0.8660 - val_accuracy: 0.5000\n",
      "Epoch 4/40\n",
      "8/8 [==============================] - 27s 3s/step - loss: 0.5853 - accuracy: 0.7063 - val_loss: 0.6426 - val_accuracy: 0.5117\n",
      "Epoch 5/40\n",
      "8/8 [==============================] - 29s 4s/step - loss: 0.5723 - accuracy: 0.7152 - val_loss: 0.5157 - val_accuracy: 0.7969\n",
      "Epoch 6/40\n",
      "8/8 [==============================] - 27s 3s/step - loss: 0.5406 - accuracy: 0.7397 - val_loss: 0.6652 - val_accuracy: 0.5234\n",
      "Epoch 7/40\n",
      "8/8 [==============================] - 27s 3s/step - loss: 0.5422 - accuracy: 0.7419 - val_loss: 0.6541 - val_accuracy: 0.5430\n",
      "Epoch 8/40\n",
      "8/8 [==============================] - 30s 4s/step - loss: 0.5246 - accuracy: 0.7402 - val_loss: 0.5381 - val_accuracy: 0.6523\n",
      "Epoch 9/40\n",
      "8/8 [==============================] - 27s 3s/step - loss: 0.5112 - accuracy: 0.7408 - val_loss: 0.6309 - val_accuracy: 0.5898\n",
      "Epoch 10/40\n",
      "8/8 [==============================] - 31s 4s/step - loss: 0.5151 - accuracy: 0.7508 - val_loss: 0.9201 - val_accuracy: 0.5156\n",
      "Epoch 11/40\n",
      "8/8 [==============================] - 27s 3s/step - loss: 0.5392 - accuracy: 0.7531 - val_loss: 0.8608 - val_accuracy: 0.5195\n",
      "Epoch 12/40\n",
      "8/8 [==============================] - 27s 3s/step - loss: 0.4672 - accuracy: 0.7764 - val_loss: 0.9854 - val_accuracy: 0.5156\n",
      "Epoch 13/40\n",
      "8/8 [==============================] - 27s 3s/step - loss: 0.4856 - accuracy: 0.7686 - val_loss: 0.3272 - val_accuracy: 0.8711\n",
      "Epoch 14/40\n",
      "8/8 [==============================] - 27s 3s/step - loss: 0.5008 - accuracy: 0.7798 - val_loss: 0.8546 - val_accuracy: 0.5703\n",
      "Epoch 15/40\n",
      "8/8 [==============================] - 27s 3s/step - loss: 0.4543 - accuracy: 0.7920 - val_loss: 0.9069 - val_accuracy: 0.5781\n",
      "Epoch 16/40\n",
      "8/8 [==============================] - 30s 4s/step - loss: 0.4702 - accuracy: 0.7744 - val_loss: 1.2052 - val_accuracy: 0.5195\n",
      "Epoch 17/40\n",
      "8/8 [==============================] - 26s 3s/step - loss: 0.4224 - accuracy: 0.8009 - val_loss: 1.7214 - val_accuracy: 0.5117\n",
      "Epoch 18/40\n",
      "8/8 [==============================] - 28s 3s/step - loss: 0.4895 - accuracy: 0.7519 - val_loss: 0.9847 - val_accuracy: 0.5547\n",
      "Epoch 19/40\n",
      "8/8 [==============================] - 28s 3s/step - loss: 0.4779 - accuracy: 0.7831 - val_loss: 0.9808 - val_accuracy: 0.5508\n",
      "Epoch 20/40\n",
      "8/8 [==============================] - 28s 4s/step - loss: 0.4427 - accuracy: 0.7976 - val_loss: 1.0718 - val_accuracy: 0.5625\n",
      "Epoch 21/40\n",
      "8/8 [==============================] - 27s 3s/step - loss: 0.3820 - accuracy: 0.8420 - val_loss: 2.2561 - val_accuracy: 0.5039\n",
      "Epoch 22/40\n",
      "8/8 [==============================] - 32s 4s/step - loss: 0.3920 - accuracy: 0.8287 - val_loss: 1.6824 - val_accuracy: 0.5156\n",
      "Epoch 23/40\n",
      "8/8 [==============================] - 33s 4s/step - loss: 0.4236 - accuracy: 0.8020 - val_loss: 1.2076 - val_accuracy: 0.5781\n",
      "Epoch 24/40\n",
      "8/8 [==============================] - 31s 4s/step - loss: 0.3691 - accuracy: 0.8408 - val_loss: 0.9655 - val_accuracy: 0.6484\n",
      "Epoch 25/40\n",
      "8/8 [==============================] - 28s 4s/step - loss: 0.4951 - accuracy: 0.7820 - val_loss: 1.2187 - val_accuracy: 0.5781\n",
      "Epoch 26/40\n",
      "8/8 [==============================] - 28s 4s/step - loss: 0.3734 - accuracy: 0.8465 - val_loss: 1.3299 - val_accuracy: 0.5820\n",
      "Epoch 27/40\n",
      "8/8 [==============================] - 33s 4s/step - loss: 0.4791 - accuracy: 0.8020 - val_loss: 1.3017 - val_accuracy: 0.5820\n",
      "Epoch 28/40\n",
      "8/8 [==============================] - 29s 4s/step - loss: 0.3782 - accuracy: 0.8276 - val_loss: 1.1869 - val_accuracy: 0.6094\n",
      "Epoch 29/40\n",
      "8/8 [==============================] - 29s 4s/step - loss: 0.3379 - accuracy: 0.8498 - val_loss: 1.5939 - val_accuracy: 0.5547\n",
      "Epoch 30/40\n",
      "8/8 [==============================] - 29s 4s/step - loss: 0.3614 - accuracy: 0.8254 - val_loss: 1.0238 - val_accuracy: 0.6484\n",
      "Epoch 31/40\n",
      "8/8 [==============================] - 29s 4s/step - loss: 0.3535 - accuracy: 0.8398 - val_loss: 1.0276 - val_accuracy: 0.6562\n",
      "Epoch 32/40\n",
      "8/8 [==============================] - 29s 4s/step - loss: 0.3879 - accuracy: 0.8265 - val_loss: 1.7990 - val_accuracy: 0.5312\n",
      "Epoch 33/40\n",
      "8/8 [==============================] - 29s 4s/step - loss: 0.3688 - accuracy: 0.8432 - val_loss: 1.5060 - val_accuracy: 0.5703\n",
      "Epoch 34/40\n",
      "8/8 [==============================] - 28s 4s/step - loss: 0.3325 - accuracy: 0.8598 - val_loss: 1.8090 - val_accuracy: 0.5469\n",
      "Epoch 35/40\n",
      "8/8 [==============================] - 27s 3s/step - loss: 0.3552 - accuracy: 0.8443 - val_loss: 1.3020 - val_accuracy: 0.6172\n",
      "Epoch 36/40\n",
      "8/8 [==============================] - 28s 4s/step - loss: 0.4131 - accuracy: 0.8142 - val_loss: 1.3028 - val_accuracy: 0.6172\n",
      "Epoch 37/40\n",
      "8/8 [==============================] - 28s 3s/step - loss: 0.3158 - accuracy: 0.8665 - val_loss: 1.8290 - val_accuracy: 0.5469\n",
      "Epoch 38/40\n",
      "8/8 [==============================] - 28s 4s/step - loss: 0.3563 - accuracy: 0.8543 - val_loss: 1.6146 - val_accuracy: 0.5664\n",
      "Epoch 39/40\n",
      "8/8 [==============================] - 28s 4s/step - loss: 0.3085 - accuracy: 0.8621 - val_loss: 1.8156 - val_accuracy: 0.5547\n",
      "Epoch 40/40\n",
      "8/8 [==============================] - 27s 3s/step - loss: 0.3236 - accuracy: 0.8565 - val_loss: 2.5406 - val_accuracy: 0.5195\n"
     ]
    }
   ],
   "source": [
    "history = model.fit(\n",
    "      train_generator,\n",
    "      steps_per_epoch=8,  \n",
    "      epochs=40, # originally 100\n",
    "      verbose=1,\n",
    "      validation_data = validation_generator,\n",
    "      validation_steps=8)"
   ]
  },
  {
   "cell_type": "code",
   "execution_count": 8,
   "metadata": {
    "id": "7zNPRWOVJdOH"
   },
   "outputs": [
    {
     "data": {
      "image/png": "[encoded data removed]",
      "text/plain": [
       "<Figure size 432x288 with 1 Axes>"
      ]
     },
     "metadata": {},
     "output_type": "display_data"
    },
    {
     "data": {
      "image/png": "[encoded data removed]",
      "text/plain": [
       "<Figure size 432x288 with 1 Axes>"
      ]
     },
     "metadata": {},
     "output_type": "display_data"
    }
   ],
   "source": [
    "import matplotlib.pyplot as plt\n",
    "plt.style.use(\"ggplot\")\n",
    "acc = history.history['accuracy']\n",
    "val_acc = history.history['val_accuracy']\n",
    "loss = history.history['loss']\n",
    "val_loss = history.history['val_loss']\n",
    "\n",
    "epochs = range(len(acc))\n",
    "\n",
    "plt.plot(epochs, acc, 'r', label='Training accuracy')\n",
    "plt.plot(epochs, val_acc, 'b', label='Validation accuracy')\n",
    "plt.title('Training and validation accuracy')\n",
    "\n",
    "plt.figure()\n",
    "\n",
    "plt.plot(epochs, loss, 'r', label='Training Loss')\n",
    "plt.plot(epochs, val_loss, 'b', label='Validation Loss')\n",
    "plt.title('Training and validation loss')\n",
    "plt.legend()\n",
    "\n",
    "plt.show()"
   ]
  },
  {
   "cell_type": "code",
   "execution_count": null,
   "metadata": {},
   "outputs": [],
   "source": []
  }
 ],
 "metadata": {
  "accelerator": "GPU",
  "colab": {
   "collapsed_sections": [],
   "name": "Course 2 - Part 4 - Lesson 4 - Notebook.ipynb",
   "provenance": [],
   "toc_visible": true
  },
  "kernelspec": {
   "display_name": "Python 3",
   "language": "python",
   "name": "python3"
  },
  "language_info": {
   "codemirror_mode": {
    "name": "ipython",
    "version": 3
   },
   "file_extension": ".py",
   "mimetype": "text/x-python",
   "name": "python",
   "nbconvert_exporter": "python",
   "pygments_lexer": "ipython3",
   "version": "3.6.7"
  },
  "toc": {
   "base_numbering": 1,
   "nav_menu": {},
   "number_sections": true,
   "sideBar": true,
   "skip_h1_title": false,
   "title_cell": "Table of Contents",
   "title_sidebar": "Contents",
   "toc_cell": false,
   "toc_position": {},
   "toc_section_display": true,
   "toc_window_display": false
  }
 },
 "nbformat": 4,
 "nbformat_minor": 1
}
